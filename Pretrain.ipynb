{
  "nbformat": 4,
  "nbformat_minor": 0,
  "metadata": {
    "colab": {
      "name": "Pretrain.ipynb",
      "provenance": [],
      "collapsed_sections": []
    },
    "kernelspec": {
      "name": "python3",
      "display_name": "Python 3"
    },
    "accelerator": "GPU",
    "widgets": {
      "application/vnd.jupyter.widget-state+json": {
        "a47320b99b5c472e94de2cdb385a233b": {
          "model_module": "@jupyter-widgets/controls",
          "model_name": "HBoxModel",
          "state": {
            "_view_name": "HBoxView",
            "_dom_classes": [],
            "_model_name": "HBoxModel",
            "_view_module": "@jupyter-widgets/controls",
            "_model_module_version": "1.5.0",
            "_view_count": null,
            "_view_module_version": "1.5.0",
            "box_style": "",
            "layout": "IPY_MODEL_4dc66e4e7c2c495db410cb342c457c9c",
            "_model_module": "@jupyter-widgets/controls",
            "children": [
              "IPY_MODEL_5302385bcaa741e28a5a110426d5cde7",
              "IPY_MODEL_3a3d24b9d4454825b50a43efda5613c0"
            ]
          }
        },
        "4dc66e4e7c2c495db410cb342c457c9c": {
          "model_module": "@jupyter-widgets/base",
          "model_name": "LayoutModel",
          "state": {
            "_view_name": "LayoutView",
            "grid_template_rows": null,
            "right": null,
            "justify_content": null,
            "_view_module": "@jupyter-widgets/base",
            "overflow": null,
            "_model_module_version": "1.2.0",
            "_view_count": null,
            "flex_flow": null,
            "width": null,
            "min_width": null,
            "border": null,
            "align_items": null,
            "bottom": null,
            "_model_module": "@jupyter-widgets/base",
            "top": null,
            "grid_column": null,
            "overflow_y": null,
            "overflow_x": null,
            "grid_auto_flow": null,
            "grid_area": null,
            "grid_template_columns": null,
            "flex": null,
            "_model_name": "LayoutModel",
            "justify_items": null,
            "grid_row": null,
            "max_height": null,
            "align_content": null,
            "visibility": null,
            "align_self": null,
            "height": null,
            "min_height": null,
            "padding": null,
            "grid_auto_rows": null,
            "grid_gap": null,
            "max_width": null,
            "order": null,
            "_view_module_version": "1.2.0",
            "grid_template_areas": null,
            "object_position": null,
            "object_fit": null,
            "grid_auto_columns": null,
            "margin": null,
            "display": null,
            "left": null
          }
        },
        "5302385bcaa741e28a5a110426d5cde7": {
          "model_module": "@jupyter-widgets/controls",
          "model_name": "FloatProgressModel",
          "state": {
            "_view_name": "ProgressView",
            "style": "IPY_MODEL_3f4ecb1b3afd4be6a546162f85e39cfa",
            "_dom_classes": [],
            "description": "100%",
            "_model_name": "FloatProgressModel",
            "bar_style": "success",
            "max": 21388428,
            "_view_module": "@jupyter-widgets/controls",
            "_model_module_version": "1.5.0",
            "value": 21388428,
            "_view_count": null,
            "_view_module_version": "1.5.0",
            "orientation": "horizontal",
            "min": 0,
            "description_tooltip": null,
            "_model_module": "@jupyter-widgets/controls",
            "layout": "IPY_MODEL_e315910cb5764eba8b32457b3b8af1c0"
          }
        },
        "3a3d24b9d4454825b50a43efda5613c0": {
          "model_module": "@jupyter-widgets/controls",
          "model_name": "HTMLModel",
          "state": {
            "_view_name": "HTMLView",
            "style": "IPY_MODEL_35222e246feb4770b6fa927a6a9c4107",
            "_dom_classes": [],
            "description": "",
            "_model_name": "HTMLModel",
            "placeholder": "​",
            "_view_module": "@jupyter-widgets/controls",
            "_model_module_version": "1.5.0",
            "value": " 20.4M/20.4M [00:00&lt;00:00, 143MB/s]",
            "_view_count": null,
            "_view_module_version": "1.5.0",
            "description_tooltip": null,
            "_model_module": "@jupyter-widgets/controls",
            "layout": "IPY_MODEL_0dbb47041d5d4967af565ce775e47670"
          }
        },
        "3f4ecb1b3afd4be6a546162f85e39cfa": {
          "model_module": "@jupyter-widgets/controls",
          "model_name": "ProgressStyleModel",
          "state": {
            "_view_name": "StyleView",
            "_model_name": "ProgressStyleModel",
            "description_width": "initial",
            "_view_module": "@jupyter-widgets/base",
            "_model_module_version": "1.5.0",
            "_view_count": null,
            "_view_module_version": "1.2.0",
            "bar_color": null,
            "_model_module": "@jupyter-widgets/controls"
          }
        },
        "e315910cb5764eba8b32457b3b8af1c0": {
          "model_module": "@jupyter-widgets/base",
          "model_name": "LayoutModel",
          "state": {
            "_view_name": "LayoutView",
            "grid_template_rows": null,
            "right": null,
            "justify_content": null,
            "_view_module": "@jupyter-widgets/base",
            "overflow": null,
            "_model_module_version": "1.2.0",
            "_view_count": null,
            "flex_flow": null,
            "width": null,
            "min_width": null,
            "border": null,
            "align_items": null,
            "bottom": null,
            "_model_module": "@jupyter-widgets/base",
            "top": null,
            "grid_column": null,
            "overflow_y": null,
            "overflow_x": null,
            "grid_auto_flow": null,
            "grid_area": null,
            "grid_template_columns": null,
            "flex": null,
            "_model_name": "LayoutModel",
            "justify_items": null,
            "grid_row": null,
            "max_height": null,
            "align_content": null,
            "visibility": null,
            "align_self": null,
            "height": null,
            "min_height": null,
            "padding": null,
            "grid_auto_rows": null,
            "grid_gap": null,
            "max_width": null,
            "order": null,
            "_view_module_version": "1.2.0",
            "grid_template_areas": null,
            "object_position": null,
            "object_fit": null,
            "grid_auto_columns": null,
            "margin": null,
            "display": null,
            "left": null
          }
        },
        "35222e246feb4770b6fa927a6a9c4107": {
          "model_module": "@jupyter-widgets/controls",
          "model_name": "DescriptionStyleModel",
          "state": {
            "_view_name": "StyleView",
            "_model_name": "DescriptionStyleModel",
            "description_width": "",
            "_view_module": "@jupyter-widgets/base",
            "_model_module_version": "1.5.0",
            "_view_count": null,
            "_view_module_version": "1.2.0",
            "_model_module": "@jupyter-widgets/controls"
          }
        },
        "0dbb47041d5d4967af565ce775e47670": {
          "model_module": "@jupyter-widgets/base",
          "model_name": "LayoutModel",
          "state": {
            "_view_name": "LayoutView",
            "grid_template_rows": null,
            "right": null,
            "justify_content": null,
            "_view_module": "@jupyter-widgets/base",
            "overflow": null,
            "_model_module_version": "1.2.0",
            "_view_count": null,
            "flex_flow": null,
            "width": null,
            "min_width": null,
            "border": null,
            "align_items": null,
            "bottom": null,
            "_model_module": "@jupyter-widgets/base",
            "top": null,
            "grid_column": null,
            "overflow_y": null,
            "overflow_x": null,
            "grid_auto_flow": null,
            "grid_area": null,
            "grid_template_columns": null,
            "flex": null,
            "_model_name": "LayoutModel",
            "justify_items": null,
            "grid_row": null,
            "max_height": null,
            "align_content": null,
            "visibility": null,
            "align_self": null,
            "height": null,
            "min_height": null,
            "padding": null,
            "grid_auto_rows": null,
            "grid_gap": null,
            "max_width": null,
            "order": null,
            "_view_module_version": "1.2.0",
            "grid_template_areas": null,
            "object_position": null,
            "object_fit": null,
            "grid_auto_columns": null,
            "margin": null,
            "display": null,
            "left": null
          }
        },
        "f889b488928340469425027202004227": {
          "model_module": "@jupyter-widgets/controls",
          "model_name": "HBoxModel",
          "state": {
            "_view_name": "HBoxView",
            "_dom_classes": [],
            "_model_name": "HBoxModel",
            "_view_module": "@jupyter-widgets/controls",
            "_model_module_version": "1.5.0",
            "_view_count": null,
            "_view_module_version": "1.5.0",
            "box_style": "",
            "layout": "IPY_MODEL_6c990926d7ce46de8b459a75607829d4",
            "_model_module": "@jupyter-widgets/controls",
            "children": [
              "IPY_MODEL_92095a2c986c4f93bc4e58abe70805e3",
              "IPY_MODEL_a7f7d871ec2a4e43801eec36e2e88b8d"
            ]
          }
        },
        "6c990926d7ce46de8b459a75607829d4": {
          "model_module": "@jupyter-widgets/base",
          "model_name": "LayoutModel",
          "state": {
            "_view_name": "LayoutView",
            "grid_template_rows": null,
            "right": null,
            "justify_content": null,
            "_view_module": "@jupyter-widgets/base",
            "overflow": null,
            "_model_module_version": "1.2.0",
            "_view_count": null,
            "flex_flow": null,
            "width": null,
            "min_width": null,
            "border": null,
            "align_items": null,
            "bottom": null,
            "_model_module": "@jupyter-widgets/base",
            "top": null,
            "grid_column": null,
            "overflow_y": null,
            "overflow_x": null,
            "grid_auto_flow": null,
            "grid_area": null,
            "grid_template_columns": null,
            "flex": null,
            "_model_name": "LayoutModel",
            "justify_items": null,
            "grid_row": null,
            "max_height": null,
            "align_content": null,
            "visibility": null,
            "align_self": null,
            "height": null,
            "min_height": null,
            "padding": null,
            "grid_auto_rows": null,
            "grid_gap": null,
            "max_width": null,
            "order": null,
            "_view_module_version": "1.2.0",
            "grid_template_areas": null,
            "object_position": null,
            "object_fit": null,
            "grid_auto_columns": null,
            "margin": null,
            "display": null,
            "left": null
          }
        },
        "92095a2c986c4f93bc4e58abe70805e3": {
          "model_module": "@jupyter-widgets/controls",
          "model_name": "FloatProgressModel",
          "state": {
            "_view_name": "ProgressView",
            "style": "IPY_MODEL_1595e264ee7c45e6ad747454d81475af",
            "_dom_classes": [],
            "description": "[train 1/5]: 100%",
            "_model_name": "FloatProgressModel",
            "bar_style": "success",
            "max": 121,
            "_view_module": "@jupyter-widgets/controls",
            "_model_module_version": "1.5.0",
            "value": 121,
            "_view_count": null,
            "_view_module_version": "1.5.0",
            "orientation": "horizontal",
            "min": 0,
            "description_tooltip": null,
            "_model_module": "@jupyter-widgets/controls",
            "layout": "IPY_MODEL_f55ccb3d94e9420d8fb28245eb2dba38"
          }
        },
        "a7f7d871ec2a4e43801eec36e2e88b8d": {
          "model_module": "@jupyter-widgets/controls",
          "model_name": "HTMLModel",
          "state": {
            "_view_name": "HTMLView",
            "style": "IPY_MODEL_0a4b3797f88d4fd9a85f173c7825db14",
            "_dom_classes": [],
            "description": "",
            "_model_name": "HTMLModel",
            "placeholder": "​",
            "_view_module": "@jupyter-widgets/controls",
            "_model_module_version": "1.5.0",
            "value": " 121/121 [4:20:01&lt;00:00, 128.94s/it, acc=0.565, loss=0.0398]",
            "_view_count": null,
            "_view_module_version": "1.5.0",
            "description_tooltip": null,
            "_model_module": "@jupyter-widgets/controls",
            "layout": "IPY_MODEL_2836d1f6f9fc4f88ac43b1f2d071252a"
          }
        },
        "1595e264ee7c45e6ad747454d81475af": {
          "model_module": "@jupyter-widgets/controls",
          "model_name": "ProgressStyleModel",
          "state": {
            "_view_name": "StyleView",
            "_model_name": "ProgressStyleModel",
            "description_width": "initial",
            "_view_module": "@jupyter-widgets/base",
            "_model_module_version": "1.5.0",
            "_view_count": null,
            "_view_module_version": "1.2.0",
            "bar_color": null,
            "_model_module": "@jupyter-widgets/controls"
          }
        },
        "f55ccb3d94e9420d8fb28245eb2dba38": {
          "model_module": "@jupyter-widgets/base",
          "model_name": "LayoutModel",
          "state": {
            "_view_name": "LayoutView",
            "grid_template_rows": null,
            "right": null,
            "justify_content": null,
            "_view_module": "@jupyter-widgets/base",
            "overflow": null,
            "_model_module_version": "1.2.0",
            "_view_count": null,
            "flex_flow": null,
            "width": null,
            "min_width": null,
            "border": null,
            "align_items": null,
            "bottom": null,
            "_model_module": "@jupyter-widgets/base",
            "top": null,
            "grid_column": null,
            "overflow_y": null,
            "overflow_x": null,
            "grid_auto_flow": null,
            "grid_area": null,
            "grid_template_columns": null,
            "flex": null,
            "_model_name": "LayoutModel",
            "justify_items": null,
            "grid_row": null,
            "max_height": null,
            "align_content": null,
            "visibility": null,
            "align_self": null,
            "height": null,
            "min_height": null,
            "padding": null,
            "grid_auto_rows": null,
            "grid_gap": null,
            "max_width": null,
            "order": null,
            "_view_module_version": "1.2.0",
            "grid_template_areas": null,
            "object_position": null,
            "object_fit": null,
            "grid_auto_columns": null,
            "margin": null,
            "display": null,
            "left": null
          }
        },
        "0a4b3797f88d4fd9a85f173c7825db14": {
          "model_module": "@jupyter-widgets/controls",
          "model_name": "DescriptionStyleModel",
          "state": {
            "_view_name": "StyleView",
            "_model_name": "DescriptionStyleModel",
            "description_width": "",
            "_view_module": "@jupyter-widgets/base",
            "_model_module_version": "1.5.0",
            "_view_count": null,
            "_view_module_version": "1.2.0",
            "_model_module": "@jupyter-widgets/controls"
          }
        },
        "2836d1f6f9fc4f88ac43b1f2d071252a": {
          "model_module": "@jupyter-widgets/base",
          "model_name": "LayoutModel",
          "state": {
            "_view_name": "LayoutView",
            "grid_template_rows": null,
            "right": null,
            "justify_content": null,
            "_view_module": "@jupyter-widgets/base",
            "overflow": null,
            "_model_module_version": "1.2.0",
            "_view_count": null,
            "flex_flow": null,
            "width": null,
            "min_width": null,
            "border": null,
            "align_items": null,
            "bottom": null,
            "_model_module": "@jupyter-widgets/base",
            "top": null,
            "grid_column": null,
            "overflow_y": null,
            "overflow_x": null,
            "grid_auto_flow": null,
            "grid_area": null,
            "grid_template_columns": null,
            "flex": null,
            "_model_name": "LayoutModel",
            "justify_items": null,
            "grid_row": null,
            "max_height": null,
            "align_content": null,
            "visibility": null,
            "align_self": null,
            "height": null,
            "min_height": null,
            "padding": null,
            "grid_auto_rows": null,
            "grid_gap": null,
            "max_width": null,
            "order": null,
            "_view_module_version": "1.2.0",
            "grid_template_areas": null,
            "object_position": null,
            "object_fit": null,
            "grid_auto_columns": null,
            "margin": null,
            "display": null,
            "left": null
          }
        },
        "b2aa285bdbe6426a889418ebc1d0e5d0": {
          "model_module": "@jupyter-widgets/controls",
          "model_name": "HBoxModel",
          "state": {
            "_view_name": "HBoxView",
            "_dom_classes": [],
            "_model_name": "HBoxModel",
            "_view_module": "@jupyter-widgets/controls",
            "_model_module_version": "1.5.0",
            "_view_count": null,
            "_view_module_version": "1.5.0",
            "box_style": "",
            "layout": "IPY_MODEL_a15658a270f34d54a61b4f527c9b8ac0",
            "_model_module": "@jupyter-widgets/controls",
            "children": [
              "IPY_MODEL_5ecc7cf81e574e608b039a619f34a8aa",
              "IPY_MODEL_5c14f9784bf148c8a4ffcc231de91eaf"
            ]
          }
        },
        "a15658a270f34d54a61b4f527c9b8ac0": {
          "model_module": "@jupyter-widgets/base",
          "model_name": "LayoutModel",
          "state": {
            "_view_name": "LayoutView",
            "grid_template_rows": null,
            "right": null,
            "justify_content": null,
            "_view_module": "@jupyter-widgets/base",
            "overflow": null,
            "_model_module_version": "1.2.0",
            "_view_count": null,
            "flex_flow": null,
            "width": null,
            "min_width": null,
            "border": null,
            "align_items": null,
            "bottom": null,
            "_model_module": "@jupyter-widgets/base",
            "top": null,
            "grid_column": null,
            "overflow_y": null,
            "overflow_x": null,
            "grid_auto_flow": null,
            "grid_area": null,
            "grid_template_columns": null,
            "flex": null,
            "_model_name": "LayoutModel",
            "justify_items": null,
            "grid_row": null,
            "max_height": null,
            "align_content": null,
            "visibility": null,
            "align_self": null,
            "height": null,
            "min_height": null,
            "padding": null,
            "grid_auto_rows": null,
            "grid_gap": null,
            "max_width": null,
            "order": null,
            "_view_module_version": "1.2.0",
            "grid_template_areas": null,
            "object_position": null,
            "object_fit": null,
            "grid_auto_columns": null,
            "margin": null,
            "display": null,
            "left": null
          }
        },
        "5ecc7cf81e574e608b039a619f34a8aa": {
          "model_module": "@jupyter-widgets/controls",
          "model_name": "FloatProgressModel",
          "state": {
            "_view_name": "ProgressView",
            "style": "IPY_MODEL_045f453399454681838b39c13ad8e4fa",
            "_dom_classes": [],
            "description": "[train 2/5]: 100%",
            "_model_name": "FloatProgressModel",
            "bar_style": "success",
            "max": 121,
            "_view_module": "@jupyter-widgets/controls",
            "_model_module_version": "1.5.0",
            "value": 121,
            "_view_count": null,
            "_view_module_version": "1.5.0",
            "orientation": "horizontal",
            "min": 0,
            "description_tooltip": null,
            "_model_module": "@jupyter-widgets/controls",
            "layout": "IPY_MODEL_1fdcfbd106b649e2baae7738dce1e838"
          }
        },
        "5c14f9784bf148c8a4ffcc231de91eaf": {
          "model_module": "@jupyter-widgets/controls",
          "model_name": "HTMLModel",
          "state": {
            "_view_name": "HTMLView",
            "style": "IPY_MODEL_b2b49cc33fc84da2a64fa71c18af5188",
            "_dom_classes": [],
            "description": "",
            "_model_name": "HTMLModel",
            "placeholder": "​",
            "_view_module": "@jupyter-widgets/controls",
            "_model_module_version": "1.5.0",
            "value": " 121/121 [2:47:39&lt;00:00, 83.14s/it, acc=0.751, loss=0.0331]",
            "_view_count": null,
            "_view_module_version": "1.5.0",
            "description_tooltip": null,
            "_model_module": "@jupyter-widgets/controls",
            "layout": "IPY_MODEL_d81a23ee3cb64bc1a890af673fd285f9"
          }
        },
        "045f453399454681838b39c13ad8e4fa": {
          "model_module": "@jupyter-widgets/controls",
          "model_name": "ProgressStyleModel",
          "state": {
            "_view_name": "StyleView",
            "_model_name": "ProgressStyleModel",
            "description_width": "initial",
            "_view_module": "@jupyter-widgets/base",
            "_model_module_version": "1.5.0",
            "_view_count": null,
            "_view_module_version": "1.2.0",
            "bar_color": null,
            "_model_module": "@jupyter-widgets/controls"
          }
        },
        "1fdcfbd106b649e2baae7738dce1e838": {
          "model_module": "@jupyter-widgets/base",
          "model_name": "LayoutModel",
          "state": {
            "_view_name": "LayoutView",
            "grid_template_rows": null,
            "right": null,
            "justify_content": null,
            "_view_module": "@jupyter-widgets/base",
            "overflow": null,
            "_model_module_version": "1.2.0",
            "_view_count": null,
            "flex_flow": null,
            "width": null,
            "min_width": null,
            "border": null,
            "align_items": null,
            "bottom": null,
            "_model_module": "@jupyter-widgets/base",
            "top": null,
            "grid_column": null,
            "overflow_y": null,
            "overflow_x": null,
            "grid_auto_flow": null,
            "grid_area": null,
            "grid_template_columns": null,
            "flex": null,
            "_model_name": "LayoutModel",
            "justify_items": null,
            "grid_row": null,
            "max_height": null,
            "align_content": null,
            "visibility": null,
            "align_self": null,
            "height": null,
            "min_height": null,
            "padding": null,
            "grid_auto_rows": null,
            "grid_gap": null,
            "max_width": null,
            "order": null,
            "_view_module_version": "1.2.0",
            "grid_template_areas": null,
            "object_position": null,
            "object_fit": null,
            "grid_auto_columns": null,
            "margin": null,
            "display": null,
            "left": null
          }
        },
        "b2b49cc33fc84da2a64fa71c18af5188": {
          "model_module": "@jupyter-widgets/controls",
          "model_name": "DescriptionStyleModel",
          "state": {
            "_view_name": "StyleView",
            "_model_name": "DescriptionStyleModel",
            "description_width": "",
            "_view_module": "@jupyter-widgets/base",
            "_model_module_version": "1.5.0",
            "_view_count": null,
            "_view_module_version": "1.2.0",
            "_model_module": "@jupyter-widgets/controls"
          }
        },
        "d81a23ee3cb64bc1a890af673fd285f9": {
          "model_module": "@jupyter-widgets/base",
          "model_name": "LayoutModel",
          "state": {
            "_view_name": "LayoutView",
            "grid_template_rows": null,
            "right": null,
            "justify_content": null,
            "_view_module": "@jupyter-widgets/base",
            "overflow": null,
            "_model_module_version": "1.2.0",
            "_view_count": null,
            "flex_flow": null,
            "width": null,
            "min_width": null,
            "border": null,
            "align_items": null,
            "bottom": null,
            "_model_module": "@jupyter-widgets/base",
            "top": null,
            "grid_column": null,
            "overflow_y": null,
            "overflow_x": null,
            "grid_auto_flow": null,
            "grid_area": null,
            "grid_template_columns": null,
            "flex": null,
            "_model_name": "LayoutModel",
            "justify_items": null,
            "grid_row": null,
            "max_height": null,
            "align_content": null,
            "visibility": null,
            "align_self": null,
            "height": null,
            "min_height": null,
            "padding": null,
            "grid_auto_rows": null,
            "grid_gap": null,
            "max_width": null,
            "order": null,
            "_view_module_version": "1.2.0",
            "grid_template_areas": null,
            "object_position": null,
            "object_fit": null,
            "grid_auto_columns": null,
            "margin": null,
            "display": null,
            "left": null
          }
        },
        "68f70b84808d4b4f9dacb294b1d1d638": {
          "model_module": "@jupyter-widgets/controls",
          "model_name": "HBoxModel",
          "state": {
            "_view_name": "HBoxView",
            "_dom_classes": [],
            "_model_name": "HBoxModel",
            "_view_module": "@jupyter-widgets/controls",
            "_model_module_version": "1.5.0",
            "_view_count": null,
            "_view_module_version": "1.5.0",
            "box_style": "",
            "layout": "IPY_MODEL_91adba897a8340c6aa07a363fc125a98",
            "_model_module": "@jupyter-widgets/controls",
            "children": [
              "IPY_MODEL_3a5466ab00ab4e7f92e7bfa78afdc45d",
              "IPY_MODEL_d35c628711b346ccb99dd04aa97a094b"
            ]
          }
        },
        "91adba897a8340c6aa07a363fc125a98": {
          "model_module": "@jupyter-widgets/base",
          "model_name": "LayoutModel",
          "state": {
            "_view_name": "LayoutView",
            "grid_template_rows": null,
            "right": null,
            "justify_content": null,
            "_view_module": "@jupyter-widgets/base",
            "overflow": null,
            "_model_module_version": "1.2.0",
            "_view_count": null,
            "flex_flow": null,
            "width": null,
            "min_width": null,
            "border": null,
            "align_items": null,
            "bottom": null,
            "_model_module": "@jupyter-widgets/base",
            "top": null,
            "grid_column": null,
            "overflow_y": null,
            "overflow_x": null,
            "grid_auto_flow": null,
            "grid_area": null,
            "grid_template_columns": null,
            "flex": null,
            "_model_name": "LayoutModel",
            "justify_items": null,
            "grid_row": null,
            "max_height": null,
            "align_content": null,
            "visibility": null,
            "align_self": null,
            "height": null,
            "min_height": null,
            "padding": null,
            "grid_auto_rows": null,
            "grid_gap": null,
            "max_width": null,
            "order": null,
            "_view_module_version": "1.2.0",
            "grid_template_areas": null,
            "object_position": null,
            "object_fit": null,
            "grid_auto_columns": null,
            "margin": null,
            "display": null,
            "left": null
          }
        },
        "3a5466ab00ab4e7f92e7bfa78afdc45d": {
          "model_module": "@jupyter-widgets/controls",
          "model_name": "FloatProgressModel",
          "state": {
            "_view_name": "ProgressView",
            "style": "IPY_MODEL_c8e21b3bc8984d9ba26b777c078c7b7a",
            "_dom_classes": [],
            "description": "[train 3/5]: 100%",
            "_model_name": "FloatProgressModel",
            "bar_style": "success",
            "max": 121,
            "_view_module": "@jupyter-widgets/controls",
            "_model_module_version": "1.5.0",
            "value": 121,
            "_view_count": null,
            "_view_module_version": "1.5.0",
            "orientation": "horizontal",
            "min": 0,
            "description_tooltip": null,
            "_model_module": "@jupyter-widgets/controls",
            "layout": "IPY_MODEL_03b8641e475344ad854c73e951a93cec"
          }
        },
        "d35c628711b346ccb99dd04aa97a094b": {
          "model_module": "@jupyter-widgets/controls",
          "model_name": "HTMLModel",
          "state": {
            "_view_name": "HTMLView",
            "style": "IPY_MODEL_a109db192a0f4e6287d327a52e13b34b",
            "_dom_classes": [],
            "description": "",
            "_model_name": "HTMLModel",
            "placeholder": "​",
            "_view_module": "@jupyter-widgets/controls",
            "_model_module_version": "1.5.0",
            "value": " 121/121 [2:04:38&lt;00:00, 61.81s/it, acc=0.81, loss=0.0276]",
            "_view_count": null,
            "_view_module_version": "1.5.0",
            "description_tooltip": null,
            "_model_module": "@jupyter-widgets/controls",
            "layout": "IPY_MODEL_f1edf255a4a84d9caf97b53cd60d1261"
          }
        },
        "c8e21b3bc8984d9ba26b777c078c7b7a": {
          "model_module": "@jupyter-widgets/controls",
          "model_name": "ProgressStyleModel",
          "state": {
            "_view_name": "StyleView",
            "_model_name": "ProgressStyleModel",
            "description_width": "initial",
            "_view_module": "@jupyter-widgets/base",
            "_model_module_version": "1.5.0",
            "_view_count": null,
            "_view_module_version": "1.2.0",
            "bar_color": null,
            "_model_module": "@jupyter-widgets/controls"
          }
        },
        "03b8641e475344ad854c73e951a93cec": {
          "model_module": "@jupyter-widgets/base",
          "model_name": "LayoutModel",
          "state": {
            "_view_name": "LayoutView",
            "grid_template_rows": null,
            "right": null,
            "justify_content": null,
            "_view_module": "@jupyter-widgets/base",
            "overflow": null,
            "_model_module_version": "1.2.0",
            "_view_count": null,
            "flex_flow": null,
            "width": null,
            "min_width": null,
            "border": null,
            "align_items": null,
            "bottom": null,
            "_model_module": "@jupyter-widgets/base",
            "top": null,
            "grid_column": null,
            "overflow_y": null,
            "overflow_x": null,
            "grid_auto_flow": null,
            "grid_area": null,
            "grid_template_columns": null,
            "flex": null,
            "_model_name": "LayoutModel",
            "justify_items": null,
            "grid_row": null,
            "max_height": null,
            "align_content": null,
            "visibility": null,
            "align_self": null,
            "height": null,
            "min_height": null,
            "padding": null,
            "grid_auto_rows": null,
            "grid_gap": null,
            "max_width": null,
            "order": null,
            "_view_module_version": "1.2.0",
            "grid_template_areas": null,
            "object_position": null,
            "object_fit": null,
            "grid_auto_columns": null,
            "margin": null,
            "display": null,
            "left": null
          }
        },
        "a109db192a0f4e6287d327a52e13b34b": {
          "model_module": "@jupyter-widgets/controls",
          "model_name": "DescriptionStyleModel",
          "state": {
            "_view_name": "StyleView",
            "_model_name": "DescriptionStyleModel",
            "description_width": "",
            "_view_module": "@jupyter-widgets/base",
            "_model_module_version": "1.5.0",
            "_view_count": null,
            "_view_module_version": "1.2.0",
            "_model_module": "@jupyter-widgets/controls"
          }
        },
        "f1edf255a4a84d9caf97b53cd60d1261": {
          "model_module": "@jupyter-widgets/base",
          "model_name": "LayoutModel",
          "state": {
            "_view_name": "LayoutView",
            "grid_template_rows": null,
            "right": null,
            "justify_content": null,
            "_view_module": "@jupyter-widgets/base",
            "overflow": null,
            "_model_module_version": "1.2.0",
            "_view_count": null,
            "flex_flow": null,
            "width": null,
            "min_width": null,
            "border": null,
            "align_items": null,
            "bottom": null,
            "_model_module": "@jupyter-widgets/base",
            "top": null,
            "grid_column": null,
            "overflow_y": null,
            "overflow_x": null,
            "grid_auto_flow": null,
            "grid_area": null,
            "grid_template_columns": null,
            "flex": null,
            "_model_name": "LayoutModel",
            "justify_items": null,
            "grid_row": null,
            "max_height": null,
            "align_content": null,
            "visibility": null,
            "align_self": null,
            "height": null,
            "min_height": null,
            "padding": null,
            "grid_auto_rows": null,
            "grid_gap": null,
            "max_width": null,
            "order": null,
            "_view_module_version": "1.2.0",
            "grid_template_areas": null,
            "object_position": null,
            "object_fit": null,
            "grid_auto_columns": null,
            "margin": null,
            "display": null,
            "left": null
          }
        },
        "4eca5ee031c24af0a987063455b6d642": {
          "model_module": "@jupyter-widgets/controls",
          "model_name": "HBoxModel",
          "state": {
            "_view_name": "HBoxView",
            "_dom_classes": [],
            "_model_name": "HBoxModel",
            "_view_module": "@jupyter-widgets/controls",
            "_model_module_version": "1.5.0",
            "_view_count": null,
            "_view_module_version": "1.5.0",
            "box_style": "",
            "layout": "IPY_MODEL_054a76d6d4c54967adf9b713d67b74de",
            "_model_module": "@jupyter-widgets/controls",
            "children": [
              "IPY_MODEL_576bb78e25754c479e31b3c45eee05b3",
              "IPY_MODEL_6ae3d5fd4527497e98da13e1898afea3"
            ]
          }
        },
        "054a76d6d4c54967adf9b713d67b74de": {
          "model_module": "@jupyter-widgets/base",
          "model_name": "LayoutModel",
          "state": {
            "_view_name": "LayoutView",
            "grid_template_rows": null,
            "right": null,
            "justify_content": null,
            "_view_module": "@jupyter-widgets/base",
            "overflow": null,
            "_model_module_version": "1.2.0",
            "_view_count": null,
            "flex_flow": null,
            "width": null,
            "min_width": null,
            "border": null,
            "align_items": null,
            "bottom": null,
            "_model_module": "@jupyter-widgets/base",
            "top": null,
            "grid_column": null,
            "overflow_y": null,
            "overflow_x": null,
            "grid_auto_flow": null,
            "grid_area": null,
            "grid_template_columns": null,
            "flex": null,
            "_model_name": "LayoutModel",
            "justify_items": null,
            "grid_row": null,
            "max_height": null,
            "align_content": null,
            "visibility": null,
            "align_self": null,
            "height": null,
            "min_height": null,
            "padding": null,
            "grid_auto_rows": null,
            "grid_gap": null,
            "max_width": null,
            "order": null,
            "_view_module_version": "1.2.0",
            "grid_template_areas": null,
            "object_position": null,
            "object_fit": null,
            "grid_auto_columns": null,
            "margin": null,
            "display": null,
            "left": null
          }
        },
        "576bb78e25754c479e31b3c45eee05b3": {
          "model_module": "@jupyter-widgets/controls",
          "model_name": "FloatProgressModel",
          "state": {
            "_view_name": "ProgressView",
            "style": "IPY_MODEL_d121b4f6e55f48289d84d42940357ca9",
            "_dom_classes": [],
            "description": "[train 4/5]: 100%",
            "_model_name": "FloatProgressModel",
            "bar_style": "success",
            "max": 121,
            "_view_module": "@jupyter-widgets/controls",
            "_model_module_version": "1.5.0",
            "value": 121,
            "_view_count": null,
            "_view_module_version": "1.5.0",
            "orientation": "horizontal",
            "min": 0,
            "description_tooltip": null,
            "_model_module": "@jupyter-widgets/controls",
            "layout": "IPY_MODEL_0f98973e878947a59e5e538d4203c1c7"
          }
        },
        "6ae3d5fd4527497e98da13e1898afea3": {
          "model_module": "@jupyter-widgets/controls",
          "model_name": "HTMLModel",
          "state": {
            "_view_name": "HTMLView",
            "style": "IPY_MODEL_d25495532276465d9cda3916a3be1ee6",
            "_dom_classes": [],
            "description": "",
            "_model_name": "HTMLModel",
            "placeholder": "​",
            "_view_module": "@jupyter-widgets/controls",
            "_model_module_version": "1.5.0",
            "value": " 121/121 [1:22:15&lt;00:00, 40.79s/it, acc=0.843, loss=0.0237]",
            "_view_count": null,
            "_view_module_version": "1.5.0",
            "description_tooltip": null,
            "_model_module": "@jupyter-widgets/controls",
            "layout": "IPY_MODEL_5cf88fa29a874cf4b05aace09a377917"
          }
        },
        "d121b4f6e55f48289d84d42940357ca9": {
          "model_module": "@jupyter-widgets/controls",
          "model_name": "ProgressStyleModel",
          "state": {
            "_view_name": "StyleView",
            "_model_name": "ProgressStyleModel",
            "description_width": "initial",
            "_view_module": "@jupyter-widgets/base",
            "_model_module_version": "1.5.0",
            "_view_count": null,
            "_view_module_version": "1.2.0",
            "bar_color": null,
            "_model_module": "@jupyter-widgets/controls"
          }
        },
        "0f98973e878947a59e5e538d4203c1c7": {
          "model_module": "@jupyter-widgets/base",
          "model_name": "LayoutModel",
          "state": {
            "_view_name": "LayoutView",
            "grid_template_rows": null,
            "right": null,
            "justify_content": null,
            "_view_module": "@jupyter-widgets/base",
            "overflow": null,
            "_model_module_version": "1.2.0",
            "_view_count": null,
            "flex_flow": null,
            "width": null,
            "min_width": null,
            "border": null,
            "align_items": null,
            "bottom": null,
            "_model_module": "@jupyter-widgets/base",
            "top": null,
            "grid_column": null,
            "overflow_y": null,
            "overflow_x": null,
            "grid_auto_flow": null,
            "grid_area": null,
            "grid_template_columns": null,
            "flex": null,
            "_model_name": "LayoutModel",
            "justify_items": null,
            "grid_row": null,
            "max_height": null,
            "align_content": null,
            "visibility": null,
            "align_self": null,
            "height": null,
            "min_height": null,
            "padding": null,
            "grid_auto_rows": null,
            "grid_gap": null,
            "max_width": null,
            "order": null,
            "_view_module_version": "1.2.0",
            "grid_template_areas": null,
            "object_position": null,
            "object_fit": null,
            "grid_auto_columns": null,
            "margin": null,
            "display": null,
            "left": null
          }
        },
        "d25495532276465d9cda3916a3be1ee6": {
          "model_module": "@jupyter-widgets/controls",
          "model_name": "DescriptionStyleModel",
          "state": {
            "_view_name": "StyleView",
            "_model_name": "DescriptionStyleModel",
            "description_width": "",
            "_view_module": "@jupyter-widgets/base",
            "_model_module_version": "1.5.0",
            "_view_count": null,
            "_view_module_version": "1.2.0",
            "_model_module": "@jupyter-widgets/controls"
          }
        },
        "5cf88fa29a874cf4b05aace09a377917": {
          "model_module": "@jupyter-widgets/base",
          "model_name": "LayoutModel",
          "state": {
            "_view_name": "LayoutView",
            "grid_template_rows": null,
            "right": null,
            "justify_content": null,
            "_view_module": "@jupyter-widgets/base",
            "overflow": null,
            "_model_module_version": "1.2.0",
            "_view_count": null,
            "flex_flow": null,
            "width": null,
            "min_width": null,
            "border": null,
            "align_items": null,
            "bottom": null,
            "_model_module": "@jupyter-widgets/base",
            "top": null,
            "grid_column": null,
            "overflow_y": null,
            "overflow_x": null,
            "grid_auto_flow": null,
            "grid_area": null,
            "grid_template_columns": null,
            "flex": null,
            "_model_name": "LayoutModel",
            "justify_items": null,
            "grid_row": null,
            "max_height": null,
            "align_content": null,
            "visibility": null,
            "align_self": null,
            "height": null,
            "min_height": null,
            "padding": null,
            "grid_auto_rows": null,
            "grid_gap": null,
            "max_width": null,
            "order": null,
            "_view_module_version": "1.2.0",
            "grid_template_areas": null,
            "object_position": null,
            "object_fit": null,
            "grid_auto_columns": null,
            "margin": null,
            "display": null,
            "left": null
          }
        },
        "fe51a97895604a0eb0939ff72b8c7a45": {
          "model_module": "@jupyter-widgets/controls",
          "model_name": "HBoxModel",
          "state": {
            "_view_name": "HBoxView",
            "_dom_classes": [],
            "_model_name": "HBoxModel",
            "_view_module": "@jupyter-widgets/controls",
            "_model_module_version": "1.5.0",
            "_view_count": null,
            "_view_module_version": "1.5.0",
            "box_style": "",
            "layout": "IPY_MODEL_ef8e9e57d6b949c6a73fc96b850c02c4",
            "_model_module": "@jupyter-widgets/controls",
            "children": [
              "IPY_MODEL_6638f87b29f3436299108579158a3b16",
              "IPY_MODEL_68295b3d9a5d4f39a5279b9603acf33b"
            ]
          }
        },
        "ef8e9e57d6b949c6a73fc96b850c02c4": {
          "model_module": "@jupyter-widgets/base",
          "model_name": "LayoutModel",
          "state": {
            "_view_name": "LayoutView",
            "grid_template_rows": null,
            "right": null,
            "justify_content": null,
            "_view_module": "@jupyter-widgets/base",
            "overflow": null,
            "_model_module_version": "1.2.0",
            "_view_count": null,
            "flex_flow": null,
            "width": null,
            "min_width": null,
            "border": null,
            "align_items": null,
            "bottom": null,
            "_model_module": "@jupyter-widgets/base",
            "top": null,
            "grid_column": null,
            "overflow_y": null,
            "overflow_x": null,
            "grid_auto_flow": null,
            "grid_area": null,
            "grid_template_columns": null,
            "flex": null,
            "_model_name": "LayoutModel",
            "justify_items": null,
            "grid_row": null,
            "max_height": null,
            "align_content": null,
            "visibility": null,
            "align_self": null,
            "height": null,
            "min_height": null,
            "padding": null,
            "grid_auto_rows": null,
            "grid_gap": null,
            "max_width": null,
            "order": null,
            "_view_module_version": "1.2.0",
            "grid_template_areas": null,
            "object_position": null,
            "object_fit": null,
            "grid_auto_columns": null,
            "margin": null,
            "display": null,
            "left": null
          }
        },
        "6638f87b29f3436299108579158a3b16": {
          "model_module": "@jupyter-widgets/controls",
          "model_name": "FloatProgressModel",
          "state": {
            "_view_name": "ProgressView",
            "style": "IPY_MODEL_900c8b68b43d4ca6a2e9c21e5427d497",
            "_dom_classes": [],
            "description": "[train 5/5]: 100%",
            "_model_name": "FloatProgressModel",
            "bar_style": "success",
            "max": 121,
            "_view_module": "@jupyter-widgets/controls",
            "_model_module_version": "1.5.0",
            "value": 121,
            "_view_count": null,
            "_view_module_version": "1.5.0",
            "orientation": "horizontal",
            "min": 0,
            "description_tooltip": null,
            "_model_module": "@jupyter-widgets/controls",
            "layout": "IPY_MODEL_faac557c6d8046d5813f10bbdc06e515"
          }
        },
        "68295b3d9a5d4f39a5279b9603acf33b": {
          "model_module": "@jupyter-widgets/controls",
          "model_name": "HTMLModel",
          "state": {
            "_view_name": "HTMLView",
            "style": "IPY_MODEL_df15b4df47dd4ed882a2cf5969880f25",
            "_dom_classes": [],
            "description": "",
            "_model_name": "HTMLModel",
            "placeholder": "​",
            "_view_module": "@jupyter-widgets/controls",
            "_model_module_version": "1.5.0",
            "value": " 121/121 [40:44&lt;00:00, 20.20s/it, acc=0.862, loss=0.0208]",
            "_view_count": null,
            "_view_module_version": "1.5.0",
            "description_tooltip": null,
            "_model_module": "@jupyter-widgets/controls",
            "layout": "IPY_MODEL_d38ad3acf36843de866412416b1840c1"
          }
        },
        "900c8b68b43d4ca6a2e9c21e5427d497": {
          "model_module": "@jupyter-widgets/controls",
          "model_name": "ProgressStyleModel",
          "state": {
            "_view_name": "StyleView",
            "_model_name": "ProgressStyleModel",
            "description_width": "initial",
            "_view_module": "@jupyter-widgets/base",
            "_model_module_version": "1.5.0",
            "_view_count": null,
            "_view_module_version": "1.2.0",
            "bar_color": null,
            "_model_module": "@jupyter-widgets/controls"
          }
        },
        "faac557c6d8046d5813f10bbdc06e515": {
          "model_module": "@jupyter-widgets/base",
          "model_name": "LayoutModel",
          "state": {
            "_view_name": "LayoutView",
            "grid_template_rows": null,
            "right": null,
            "justify_content": null,
            "_view_module": "@jupyter-widgets/base",
            "overflow": null,
            "_model_module_version": "1.2.0",
            "_view_count": null,
            "flex_flow": null,
            "width": null,
            "min_width": null,
            "border": null,
            "align_items": null,
            "bottom": null,
            "_model_module": "@jupyter-widgets/base",
            "top": null,
            "grid_column": null,
            "overflow_y": null,
            "overflow_x": null,
            "grid_auto_flow": null,
            "grid_area": null,
            "grid_template_columns": null,
            "flex": null,
            "_model_name": "LayoutModel",
            "justify_items": null,
            "grid_row": null,
            "max_height": null,
            "align_content": null,
            "visibility": null,
            "align_self": null,
            "height": null,
            "min_height": null,
            "padding": null,
            "grid_auto_rows": null,
            "grid_gap": null,
            "max_width": null,
            "order": null,
            "_view_module_version": "1.2.0",
            "grid_template_areas": null,
            "object_position": null,
            "object_fit": null,
            "grid_auto_columns": null,
            "margin": null,
            "display": null,
            "left": null
          }
        },
        "df15b4df47dd4ed882a2cf5969880f25": {
          "model_module": "@jupyter-widgets/controls",
          "model_name": "DescriptionStyleModel",
          "state": {
            "_view_name": "StyleView",
            "_model_name": "DescriptionStyleModel",
            "description_width": "",
            "_view_module": "@jupyter-widgets/base",
            "_model_module_version": "1.5.0",
            "_view_count": null,
            "_view_module_version": "1.2.0",
            "_model_module": "@jupyter-widgets/controls"
          }
        },
        "d38ad3acf36843de866412416b1840c1": {
          "model_module": "@jupyter-widgets/base",
          "model_name": "LayoutModel",
          "state": {
            "_view_name": "LayoutView",
            "grid_template_rows": null,
            "right": null,
            "justify_content": null,
            "_view_module": "@jupyter-widgets/base",
            "overflow": null,
            "_model_module_version": "1.2.0",
            "_view_count": null,
            "flex_flow": null,
            "width": null,
            "min_width": null,
            "border": null,
            "align_items": null,
            "bottom": null,
            "_model_module": "@jupyter-widgets/base",
            "top": null,
            "grid_column": null,
            "overflow_y": null,
            "overflow_x": null,
            "grid_auto_flow": null,
            "grid_area": null,
            "grid_template_columns": null,
            "flex": null,
            "_model_name": "LayoutModel",
            "justify_items": null,
            "grid_row": null,
            "max_height": null,
            "align_content": null,
            "visibility": null,
            "align_self": null,
            "height": null,
            "min_height": null,
            "padding": null,
            "grid_auto_rows": null,
            "grid_gap": null,
            "max_width": null,
            "order": null,
            "_view_module_version": "1.2.0",
            "grid_template_areas": null,
            "object_position": null,
            "object_fit": null,
            "grid_auto_columns": null,
            "margin": null,
            "display": null,
            "left": null
          }
        }
      }
    }
  },
  "cells": [
    {
      "source": [
        "## Initial Setup"
      ],
      "cell_type": "markdown",
      "metadata": {}
    },
    {
      "cell_type": "code",
      "metadata": {
        "colab": {
          "base_uri": "https://localhost:8080/"
        },
        "id": "rGdsR2OqRARA",
        "outputId": "ef904be8-192f-4be2-f782-1ca1e902162e"
      },
      "source": [
        "!git clone https://github.com/syncdoth/Eagle-Eye-Pneumonia-Detection.git"
      ],
      "execution_count": 1,
      "outputs": [
        {
          "output_type": "stream",
          "text": [
            "Cloning into 'Eagle-Eye-Pneumonia-Detection'...\n",
            "remote: Enumerating objects: 44, done.\u001b[K\n",
            "remote: Counting objects: 100% (44/44), done.\u001b[K\n",
            "remote: Compressing objects: 100% (29/29), done.\u001b[K\n",
            "remote: Total 219 (delta 22), reused 31 (delta 15), pack-reused 175\u001b[K\n",
            "Receiving objects: 100% (219/219), 146.87 KiB | 18.36 MiB/s, done.\n",
            "Resolving deltas: 100% (99/99), done.\n"
          ],
          "name": "stdout"
        }
      ]
    },
    {
      "cell_type": "code",
      "metadata": {
        "colab": {
          "base_uri": "https://localhost:8080/"
        },
        "id": "0Oh65rQKRKIQ",
        "outputId": "01576215-912d-4810-9e7f-6ae9bb54a9dc"
      },
      "source": [
        "!bash Eagle-Eye-Pneumonia-Detection/utils/connect_in_colab.sh"
      ],
      "execution_count": 2,
      "outputs": [
        {
          "output_type": "stream",
          "text": [
            "The following NEW packages will be installed:\n",
            "  sshpass\n",
            "0 upgraded, 1 newly installed, 0 to remove and 30 not upgraded.\n",
            "Need to get 10.5 kB of archives.\n",
            "After this operation, 30.7 kB of additional disk space will be used.\n",
            "debconf: unable to initialize frontend: Dialog\n",
            "debconf: (No usable dialog-like program is installed, so the dialog based frontend cannot be used. at /usr/share/perl5/Debconf/FrontEnd/Dialog.pm line 76, <> line 1.)\n",
            "debconf: falling back to frontend: Readline\n",
            "debconf: unable to initialize frontend: Readline\n",
            "debconf: (This frontend requires a controlling tty.)\n",
            "debconf: falling back to frontend: Teletype\n",
            "dpkg-preconfigure: unable to re-open stdin: \n",
            "Selecting previously unselected package sshpass.\n",
            "(Reading database ... 160980 files and directories currently installed.)\n",
            "Preparing to unpack .../sshpass_1.06-1_amd64.deb ...\n",
            "Unpacking sshpass (1.06-1) ...\n",
            "Setting up sshpass (1.06-1) ...\n",
            "Processing triggers for man-db (2.8.3-2ubuntu0.1) ...\n",
            "┌━━━━━━━━━━━━━━━━━━━━━━━━━━━━━━━━━━━━━━━━━━━━━━━━━━━━┐ \n",
            "  Welcome to OpenAI -  Eagle Eyes Member  님\n",
            "└━━━━━━━━━━━━━━━━━━━━━━━━━━━━━━━━━━━━━━━━━━━━━━━━━━━━┘ \n",
            "  \\n\n",
            "  server에 접근하시겠습니까??\n",
            "  (password : 1q2w3e4r)\n",
            "  options:\n",
            "1) 1. login to server\n",
            "2) 2. mount to local device\n",
            "#? 2\n",
            "The following NEW packages will be installed:\n",
            "  sshfs\n",
            "0 upgraded, 1 newly installed, 0 to remove and 30 not upgraded.\n",
            "Need to get 41.3 kB of archives.\n",
            "After this operation, 114 kB of additional disk space will be used.\n",
            "debconf: unable to initialize frontend: Dialog\n",
            "debconf: (No usable dialog-like program is installed, so the dialog based frontend cannot be used. at /usr/share/perl5/Debconf/FrontEnd/Dialog.pm line 76, <> line 1.)\n",
            "debconf: falling back to frontend: Readline\n",
            "debconf: unable to initialize frontend: Readline\n",
            "debconf: (This frontend requires a controlling tty.)\n",
            "debconf: falling back to frontend: Teletype\n",
            "dpkg-preconfigure: unable to re-open stdin: \n",
            "Selecting previously unselected package sshfs.\n",
            "(Reading database ... 160985 files and directories currently installed.)\n",
            "Preparing to unpack .../archives/sshfs_2.8-1_amd64.deb ...\n",
            "Unpacking sshfs (2.8-1) ...\n",
            "Setting up sshfs (2.8-1) ...\n",
            "Processing triggers for man-db (2.8.3-2ubuntu0.1) ...\n",
            "sshfs: no process found\n",
            "\\n\n",
            "mount successful. To unmount, type:\n",
            "$ killall sshfs; sudo umount -f /content/data_server\n"
          ],
          "name": "stdout"
        }
      ]
    },
    {
      "cell_type": "code",
      "metadata": {
        "colab": {
          "base_uri": "https://localhost:8080/"
        },
        "id": "kpuVxpGhVOZO",
        "outputId": "ccdb8e65-bfee-4c0c-ef90-f9f9dcaa9945"
      },
      "source": [
        "%cd Eagle-Eye-Pneumonia-Detection"
      ],
      "execution_count": 3,
      "outputs": [
        {
          "output_type": "stream",
          "text": [
            "/content/Eagle-Eye-Pneumonia-Detection\n"
          ],
          "name": "stdout"
        }
      ]
    },
    {
      "cell_type": "code",
      "metadata": {
        "colab": {
          "base_uri": "https://localhost:8080/"
        },
        "id": "UdkiKZAhRuuU",
        "outputId": "d2ff56de-9a8e-42c1-8f1d-a353b505add0"
      },
      "source": [
        "!pip install --upgrade pip\n",
        "!pip install -r colab_requirements.txt"
      ],
      "execution_count": 4,
      "outputs": [
        {
          "output_type": "stream",
          "text": [
            "Collecting pip\n",
            "\u001b[?25l  Downloading https://files.pythonhosted.org/packages/fe/ef/60d7ba03b5c442309ef42e7d69959f73aacccd0d86008362a681c4698e83/pip-21.0.1-py3-none-any.whl (1.5MB)\n",
            "\r\u001b[K     |▏                               | 10kB 24.0MB/s eta 0:00:01\r\u001b[K     |▍                               | 20kB 29.3MB/s eta 0:00:01\r\u001b[K     |▋                               | 30kB 34.6MB/s eta 0:00:01\r\u001b[K     |▉                               | 40kB 37.4MB/s eta 0:00:01\r\u001b[K     |█                               | 51kB 40.2MB/s eta 0:00:01\r\u001b[K     |█▎                              | 61kB 42.6MB/s eta 0:00:01\r\u001b[K     |█▌                              | 71kB 40.9MB/s eta 0:00:01\r\u001b[K     |█▊                              | 81kB 39.6MB/s eta 0:00:01\r\u001b[K     |██                              | 92kB 38.6MB/s eta 0:00:01\r\u001b[K     |██▏                             | 102kB 28.6MB/s eta 0:00:01\r\u001b[K     |██▍                             | 112kB 28.6MB/s eta 0:00:01\r\u001b[K     |██▌                             | 122kB 28.6MB/s eta 0:00:01\r\u001b[K     |██▊                             | 133kB 28.6MB/s eta 0:00:01\r\u001b[K     |███                             | 143kB 28.6MB/s eta 0:00:01\r\u001b[K     |███▏                            | 153kB 28.6MB/s eta 0:00:01\r\u001b[K     |███▍                            | 163kB 28.6MB/s eta 0:00:01\r\u001b[K     |███▋                            | 174kB 28.6MB/s eta 0:00:01\r\u001b[K     |███▉                            | 184kB 28.6MB/s eta 0:00:01\r\u001b[K     |████                            | 194kB 28.6MB/s eta 0:00:01\r\u001b[K     |████▎                           | 204kB 28.6MB/s eta 0:00:01\r\u001b[K     |████▌                           | 215kB 28.6MB/s eta 0:00:01\r\u001b[K     |████▊                           | 225kB 28.6MB/s eta 0:00:01\r\u001b[K     |█████                           | 235kB 28.6MB/s eta 0:00:01\r\u001b[K     |█████                           | 245kB 28.6MB/s eta 0:00:01\r\u001b[K     |█████▎                          | 256kB 28.6MB/s eta 0:00:01\r\u001b[K     |█████▌                          | 266kB 28.6MB/s eta 0:00:01\r\u001b[K     |█████▊                          | 276kB 28.6MB/s eta 0:00:01\r\u001b[K     |██████                          | 286kB 28.6MB/s eta 0:00:01\r\u001b[K     |██████▏                         | 296kB 28.6MB/s eta 0:00:01\r\u001b[K     |██████▍                         | 307kB 28.6MB/s eta 0:00:01\r\u001b[K     |██████▋                         | 317kB 28.6MB/s eta 0:00:01\r\u001b[K     |██████▉                         | 327kB 28.6MB/s eta 0:00:01\r\u001b[K     |███████                         | 337kB 28.6MB/s eta 0:00:01\r\u001b[K     |███████▎                        | 348kB 28.6MB/s eta 0:00:01\r\u001b[K     |███████▌                        | 358kB 28.6MB/s eta 0:00:01\r\u001b[K     |███████▋                        | 368kB 28.6MB/s eta 0:00:01\r\u001b[K     |███████▉                        | 378kB 28.6MB/s eta 0:00:01\r\u001b[K     |████████                        | 389kB 28.6MB/s eta 0:00:01\r\u001b[K     |████████▎                       | 399kB 28.6MB/s eta 0:00:01\r\u001b[K     |████████▌                       | 409kB 28.6MB/s eta 0:00:01\r\u001b[K     |████████▊                       | 419kB 28.6MB/s eta 0:00:01\r\u001b[K     |█████████                       | 430kB 28.6MB/s eta 0:00:01\r\u001b[K     |█████████▏                      | 440kB 28.6MB/s eta 0:00:01\r\u001b[K     |█████████▍                      | 450kB 28.6MB/s eta 0:00:01\r\u001b[K     |█████████▋                      | 460kB 28.6MB/s eta 0:00:01\r\u001b[K     |█████████▉                      | 471kB 28.6MB/s eta 0:00:01\r\u001b[K     |██████████                      | 481kB 28.6MB/s eta 0:00:01\r\u001b[K     |██████████▏                     | 491kB 28.6MB/s eta 0:00:01\r\u001b[K     |██████████▍                     | 501kB 28.6MB/s eta 0:00:01\r\u001b[K     |██████████▋                     | 512kB 28.6MB/s eta 0:00:01\r\u001b[K     |██████████▉                     | 522kB 28.6MB/s eta 0:00:01\r\u001b[K     |███████████                     | 532kB 28.6MB/s eta 0:00:01\r\u001b[K     |███████████▎                    | 542kB 28.6MB/s eta 0:00:01\r\u001b[K     |███████████▌                    | 552kB 28.6MB/s eta 0:00:01\r\u001b[K     |███████████▊                    | 563kB 28.6MB/s eta 0:00:01\r\u001b[K     |████████████                    | 573kB 28.6MB/s eta 0:00:01\r\u001b[K     |████████████▏                   | 583kB 28.6MB/s eta 0:00:01\r\u001b[K     |████████████▍                   | 593kB 28.6MB/s eta 0:00:01\r\u001b[K     |████████████▋                   | 604kB 28.6MB/s eta 0:00:01\r\u001b[K     |████████████▊                   | 614kB 28.6MB/s eta 0:00:01\r\u001b[K     |█████████████                   | 624kB 28.6MB/s eta 0:00:01\r\u001b[K     |█████████████▏                  | 634kB 28.6MB/s eta 0:00:01\r\u001b[K     |█████████████▍                  | 645kB 28.6MB/s eta 0:00:01\r\u001b[K     |█████████████▋                  | 655kB 28.6MB/s eta 0:00:01\r\u001b[K     |█████████████▉                  | 665kB 28.6MB/s eta 0:00:01\r\u001b[K     |██████████████                  | 675kB 28.6MB/s eta 0:00:01\r\u001b[K     |██████████████▎                 | 686kB 28.6MB/s eta 0:00:01\r\u001b[K     |██████████████▌                 | 696kB 28.6MB/s eta 0:00:01\r\u001b[K     |██████████████▊                 | 706kB 28.6MB/s eta 0:00:01\r\u001b[K     |███████████████                 | 716kB 28.6MB/s eta 0:00:01\r\u001b[K     |███████████████▏                | 727kB 28.6MB/s eta 0:00:01\r\u001b[K     |███████████████▎                | 737kB 28.6MB/s eta 0:00:01\r\u001b[K     |███████████████▌                | 747kB 28.6MB/s eta 0:00:01\r\u001b[K     |███████████████▊                | 757kB 28.6MB/s eta 0:00:01\r\u001b[K     |████████████████                | 768kB 28.6MB/s eta 0:00:01\r\u001b[K     |████████████████▏               | 778kB 28.6MB/s eta 0:00:01\r\u001b[K     |████████████████▍               | 788kB 28.6MB/s eta 0:00:01\r\u001b[K     |████████████████▋               | 798kB 28.6MB/s eta 0:00:01\r\u001b[K     |████████████████▉               | 808kB 28.6MB/s eta 0:00:01\r\u001b[K     |█████████████████               | 819kB 28.6MB/s eta 0:00:01\r\u001b[K     |█████████████████▎              | 829kB 28.6MB/s eta 0:00:01\r\u001b[K     |█████████████████▌              | 839kB 28.6MB/s eta 0:00:01\r\u001b[K     |█████████████████▊              | 849kB 28.6MB/s eta 0:00:01\r\u001b[K     |█████████████████▉              | 860kB 28.6MB/s eta 0:00:01\r\u001b[K     |██████████████████              | 870kB 28.6MB/s eta 0:00:01\r\u001b[K     |██████████████████▎             | 880kB 28.6MB/s eta 0:00:01\r\u001b[K     |██████████████████▌             | 890kB 28.6MB/s eta 0:00:01\r\u001b[K     |██████████████████▊             | 901kB 28.6MB/s eta 0:00:01\r\u001b[K     |███████████████████             | 911kB 28.6MB/s eta 0:00:01\r\u001b[K     |███████████████████▏            | 921kB 28.6MB/s eta 0:00:01\r\u001b[K     |███████████████████▍            | 931kB 28.6MB/s eta 0:00:01\r\u001b[K     |███████████████████▋            | 942kB 28.6MB/s eta 0:00:01\r\u001b[K     |███████████████████▉            | 952kB 28.6MB/s eta 0:00:01\r\u001b[K     |████████████████████            | 962kB 28.6MB/s eta 0:00:01\r\u001b[K     |████████████████████▎           | 972kB 28.6MB/s eta 0:00:01\r\u001b[K     |████████████████████▍           | 983kB 28.6MB/s eta 0:00:01\r\u001b[K     |████████████████████▋           | 993kB 28.6MB/s eta 0:00:01\r\u001b[K     |████████████████████▉           | 1.0MB 28.6MB/s eta 0:00:01\r\u001b[K     |█████████████████████           | 1.0MB 28.6MB/s eta 0:00:01\r\u001b[K     |█████████████████████▎          | 1.0MB 28.6MB/s eta 0:00:01\r\u001b[K     |█████████████████████▌          | 1.0MB 28.6MB/s eta 0:00:01\r\u001b[K     |█████████████████████▊          | 1.0MB 28.6MB/s eta 0:00:01\r\u001b[K     |██████████████████████          | 1.1MB 28.6MB/s eta 0:00:01\r\u001b[K     |██████████████████████▏         | 1.1MB 28.6MB/s eta 0:00:01\r\u001b[K     |██████████████████████▍         | 1.1MB 28.6MB/s eta 0:00:01\r\u001b[K     |██████████████████████▋         | 1.1MB 28.6MB/s eta 0:00:01\r\u001b[K     |██████████████████████▉         | 1.1MB 28.6MB/s eta 0:00:01\r\u001b[K     |███████████████████████         | 1.1MB 28.6MB/s eta 0:00:01\r\u001b[K     |███████████████████████▏        | 1.1MB 28.6MB/s eta 0:00:01\r\u001b[K     |███████████████████████▍        | 1.1MB 28.6MB/s eta 0:00:01\r\u001b[K     |███████████████████████▋        | 1.1MB 28.6MB/s eta 0:00:01\r\u001b[K     |███████████████████████▉        | 1.1MB 28.6MB/s eta 0:00:01\r\u001b[K     |████████████████████████        | 1.2MB 28.6MB/s eta 0:00:01\r\u001b[K     |████████████████████████▎       | 1.2MB 28.6MB/s eta 0:00:01\r\u001b[K     |████████████████████████▌       | 1.2MB 28.6MB/s eta 0:00:01\r\u001b[K     |████████████████████████▊       | 1.2MB 28.6MB/s eta 0:00:01\r\u001b[K     |█████████████████████████       | 1.2MB 28.6MB/s eta 0:00:01\r\u001b[K     |█████████████████████████▏      | 1.2MB 28.6MB/s eta 0:00:01\r\u001b[K     |█████████████████████████▍      | 1.2MB 28.6MB/s eta 0:00:01\r\u001b[K     |█████████████████████████▌      | 1.2MB 28.6MB/s eta 0:00:01\r\u001b[K     |█████████████████████████▊      | 1.2MB 28.6MB/s eta 0:00:01\r\u001b[K     |██████████████████████████      | 1.2MB 28.6MB/s eta 0:00:01\r\u001b[K     |██████████████████████████▏     | 1.3MB 28.6MB/s eta 0:00:01\r\u001b[K     |██████████████████████████▍     | 1.3MB 28.6MB/s eta 0:00:01\r\u001b[K     |██████████████████████████▋     | 1.3MB 28.6MB/s eta 0:00:01\r\u001b[K     |██████████████████████████▉     | 1.3MB 28.6MB/s eta 0:00:01\r\u001b[K     |███████████████████████████     | 1.3MB 28.6MB/s eta 0:00:01\r\u001b[K     |███████████████████████████▎    | 1.3MB 28.6MB/s eta 0:00:01\r\u001b[K     |███████████████████████████▌    | 1.3MB 28.6MB/s eta 0:00:01\r\u001b[K     |███████████████████████████▊    | 1.3MB 28.6MB/s eta 0:00:01\r\u001b[K     |███████████████████████████▉    | 1.3MB 28.6MB/s eta 0:00:01\r\u001b[K     |████████████████████████████    | 1.4MB 28.6MB/s eta 0:00:01\r\u001b[K     |████████████████████████████▎   | 1.4MB 28.6MB/s eta 0:00:01\r\u001b[K     |████████████████████████████▌   | 1.4MB 28.6MB/s eta 0:00:01\r\u001b[K     |████████████████████████████▊   | 1.4MB 28.6MB/s eta 0:00:01\r\u001b[K     |█████████████████████████████   | 1.4MB 28.6MB/s eta 0:00:01\r\u001b[K     |█████████████████████████████▏  | 1.4MB 28.6MB/s eta 0:00:01\r\u001b[K     |█████████████████████████████▍  | 1.4MB 28.6MB/s eta 0:00:01\r\u001b[K     |█████████████████████████████▋  | 1.4MB 28.6MB/s eta 0:00:01\r\u001b[K     |█████████████████████████████▉  | 1.4MB 28.6MB/s eta 0:00:01\r\u001b[K     |██████████████████████████████  | 1.4MB 28.6MB/s eta 0:00:01\r\u001b[K     |██████████████████████████████▎ | 1.5MB 28.6MB/s eta 0:00:01\r\u001b[K     |██████████████████████████████▍ | 1.5MB 28.6MB/s eta 0:00:01\r\u001b[K     |██████████████████████████████▋ | 1.5MB 28.6MB/s eta 0:00:01\r\u001b[K     |██████████████████████████████▉ | 1.5MB 28.6MB/s eta 0:00:01\r\u001b[K     |███████████████████████████████ | 1.5MB 28.6MB/s eta 0:00:01\r\u001b[K     |███████████████████████████████▎| 1.5MB 28.6MB/s eta 0:00:01\r\u001b[K     |███████████████████████████████▌| 1.5MB 28.6MB/s eta 0:00:01\r\u001b[K     |███████████████████████████████▊| 1.5MB 28.6MB/s eta 0:00:01\r\u001b[K     |████████████████████████████████| 1.5MB 28.6MB/s eta 0:00:01\r\u001b[K     |████████████████████████████████| 1.5MB 28.6MB/s \n",
            "\u001b[?25hInstalling collected packages: pip\n",
            "  Found existing installation: pip 19.3.1\n",
            "    Uninstalling pip-19.3.1:\n",
            "      Successfully uninstalled pip-19.3.1\n",
            "Successfully installed pip-21.0.1\n",
            "Collecting scikit-learn==0.24.1\n",
            "  Downloading scikit_learn-0.24.1-cp37-cp37m-manylinux2010_x86_64.whl (22.3 MB)\n",
            "\u001b[K     |████████████████████████████████| 22.3 MB 1.5 MB/s \n",
            "\u001b[?25hCollecting efficientnet_pytorch\n",
            "  Downloading efficientnet_pytorch-0.7.0.tar.gz (20 kB)\n",
            "Collecting pydicom\n",
            "  Downloading pydicom-2.1.2-py3-none-any.whl (1.9 MB)\n",
            "\u001b[K     |████████████████████████████████| 1.9 MB 65.0 MB/s \n",
            "\u001b[?25hRequirement already satisfied: tqdm in /usr/local/lib/python3.7/dist-packages (from -r colab_requirements.txt (line 4)) (4.41.1)\n",
            "Requirement already satisfied: seaborn in /usr/local/lib/python3.7/dist-packages (from -r colab_requirements.txt (line 5)) (0.11.1)\n",
            "Requirement already satisfied: matplotlib in /usr/local/lib/python3.7/dist-packages (from -r colab_requirements.txt (line 6)) (3.2.2)\n",
            "Requirement already satisfied: joblib>=0.11 in /usr/local/lib/python3.7/dist-packages (from scikit-learn==0.24.1->-r colab_requirements.txt (line 1)) (1.0.1)\n",
            "Requirement already satisfied: numpy>=1.13.3 in /usr/local/lib/python3.7/dist-packages (from scikit-learn==0.24.1->-r colab_requirements.txt (line 1)) (1.19.5)\n",
            "Requirement already satisfied: scipy>=0.19.1 in /usr/local/lib/python3.7/dist-packages (from scikit-learn==0.24.1->-r colab_requirements.txt (line 1)) (1.4.1)\n",
            "Collecting threadpoolctl>=2.0.0\n",
            "  Downloading threadpoolctl-2.1.0-py3-none-any.whl (12 kB)\n",
            "Requirement already satisfied: torch in /usr/local/lib/python3.7/dist-packages (from efficientnet_pytorch->-r colab_requirements.txt (line 2)) (1.8.0+cu101)\n",
            "Requirement already satisfied: pyparsing!=2.0.4,!=2.1.2,!=2.1.6,>=2.0.1 in /usr/local/lib/python3.7/dist-packages (from matplotlib->-r colab_requirements.txt (line 6)) (2.4.7)\n",
            "Requirement already satisfied: python-dateutil>=2.1 in /usr/local/lib/python3.7/dist-packages (from matplotlib->-r colab_requirements.txt (line 6)) (2.8.1)\n",
            "Requirement already satisfied: kiwisolver>=1.0.1 in /usr/local/lib/python3.7/dist-packages (from matplotlib->-r colab_requirements.txt (line 6)) (1.3.1)\n",
            "Requirement already satisfied: cycler>=0.10 in /usr/local/lib/python3.7/dist-packages (from matplotlib->-r colab_requirements.txt (line 6)) (0.10.0)\n",
            "Requirement already satisfied: six in /usr/local/lib/python3.7/dist-packages (from cycler>=0.10->matplotlib->-r colab_requirements.txt (line 6)) (1.15.0)\n",
            "Requirement already satisfied: pandas>=0.23 in /usr/local/lib/python3.7/dist-packages (from seaborn->-r colab_requirements.txt (line 5)) (1.1.5)\n",
            "Requirement already satisfied: pytz>=2017.2 in /usr/local/lib/python3.7/dist-packages (from pandas>=0.23->seaborn->-r colab_requirements.txt (line 5)) (2018.9)\n",
            "Requirement already satisfied: typing-extensions in /usr/local/lib/python3.7/dist-packages (from torch->efficientnet_pytorch->-r colab_requirements.txt (line 2)) (3.7.4.3)\n",
            "Building wheels for collected packages: efficientnet-pytorch\n",
            "  Building wheel for efficientnet-pytorch (setup.py) ... \u001b[?25l\u001b[?25hdone\n",
            "  Created wheel for efficientnet-pytorch: filename=efficientnet_pytorch-0.7.0-py3-none-any.whl size=16033 sha256=d294b5d45138e7b3a073c7b943516601409449eadf929cde5d6cd8c53ecea75a\n",
            "  Stored in directory: /root/.cache/pip/wheels/b7/cc/0d/41d384b0071c6f46e542aded5f8571700ace4f1eb3f1591c29\n",
            "Successfully built efficientnet-pytorch\n",
            "Installing collected packages: threadpoolctl, scikit-learn, pydicom, efficientnet-pytorch\n",
            "  Attempting uninstall: scikit-learn\n",
            "    Found existing installation: scikit-learn 0.22.2.post1\n",
            "    Uninstalling scikit-learn-0.22.2.post1:\n",
            "      Successfully uninstalled scikit-learn-0.22.2.post1\n",
            "Successfully installed efficientnet-pytorch-0.7.0 pydicom-2.1.2 scikit-learn-0.24.1 threadpoolctl-2.1.0\n"
          ],
          "name": "stdout"
        }
      ]
    },
    {
      "source": [
        "## Train"
      ],
      "cell_type": "markdown",
      "metadata": {}
    },
    {
      "cell_type": "code",
      "metadata": {
        "id": "m-QgxCU8RTYQ"
      },
      "source": [
        "import torch\n",
        "from importlib import reload\n",
        "from torch.utils.data import SubsetRandomSampler\n",
        "from models.type_classifier import TypeClassifier\n",
        "import models.train\n",
        "reload(models.train)\n",
        "from models.train import train, make_batch\n",
        "import dataloader.ClassificationDataset\n",
        "reload(dataloader.ClassificationDataset)\n",
        "from dataloader.ClassificationDataset import AddGaussianNoise\n",
        "from torchvision import transforms\n",
        "import torchvision\n"
        "\n",
        "device = torch.device(\"cuda:0\" if torch.cuda.is_available() else \"cpu\")"
      ],
      "execution_count": 5,
      "outputs": []
    },
    {
      "cell_type": "code",
      "execution_count": null,
      "metadata": {},
      "outputs": [],
      "source": [
        "feature_aug = torchvision.transforms.Compose([\n",
        "                transforms.ToTensor(),\n",
        "                transforms.ColorJitter(brightness=[0.1,0.5], contrast=0, saturation=0, hue=0),\n",
        "                transforms.RandomAffine(degrees=(0,15),\n",
        "                                        translate=None,\n",
        "                                        scale=None,\n",
        "                                        shear=None,\n",
        "                                        fill=0,\n",
        "                                        fillcolor=None,\n",
        "                                        resample=None),\n",
        "                AddGaussianNoise(0., 1.)])"
      ]
    },
    {
      "cell_type": "code",
      "metadata": {
        "id": "A2RZ0o-PRroy"
      },
      "source": [
        "dataset = ClassificationDataset(root=\"/content/data_server\", neg_prop=0.5, trans=feature_aug)\n",
        "\n",
        "train_loader = torch.utils.data.DataLoader(dataset, batch_size=32, collate_fn=make_batch, sampler=SubsetRandomSampler(dataset.train_idx))\n",
        "val_loader = torch.utils.data.DataLoader(dataset, batch_size=32, collate_fn=make_batch, sampler=SubsetRandomSampler(dataset.val_idx))\n",
        "test_loader = torch.utils.data.DataLoader(dataset, batch_size=32, collate_fn=make_batch, sampler=SubsetRandomSampler(dataset.test_idx))"
      ],
      "execution_count": 6,
      "outputs": []
    },
    {
      "cell_type": "code",
      "metadata": {
        "colab": {
          "base_uri": "https://localhost:8080/",
          "height": 620,
          "referenced_widgets": [
            "a47320b99b5c472e94de2cdb385a233b",
            "4dc66e4e7c2c495db410cb342c457c9c",
            "5302385bcaa741e28a5a110426d5cde7",
            "3a3d24b9d4454825b50a43efda5613c0",
            "3f4ecb1b3afd4be6a546162f85e39cfa",
            "e315910cb5764eba8b32457b3b8af1c0",
            "35222e246feb4770b6fa927a6a9c4107",
            "0dbb47041d5d4967af565ce775e47670",
            "f889b488928340469425027202004227",
            "6c990926d7ce46de8b459a75607829d4",
            "92095a2c986c4f93bc4e58abe70805e3",
            "a7f7d871ec2a4e43801eec36e2e88b8d",
            "1595e264ee7c45e6ad747454d81475af",
            "f55ccb3d94e9420d8fb28245eb2dba38",
            "0a4b3797f88d4fd9a85f173c7825db14",
            "2836d1f6f9fc4f88ac43b1f2d071252a",
            "b2aa285bdbe6426a889418ebc1d0e5d0",
            "a15658a270f34d54a61b4f527c9b8ac0",
            "5ecc7cf81e574e608b039a619f34a8aa",
            "5c14f9784bf148c8a4ffcc231de91eaf",
            "045f453399454681838b39c13ad8e4fa",
            "1fdcfbd106b649e2baae7738dce1e838",
            "b2b49cc33fc84da2a64fa71c18af5188",
            "d81a23ee3cb64bc1a890af673fd285f9",
            "68f70b84808d4b4f9dacb294b1d1d638",
            "91adba897a8340c6aa07a363fc125a98",
            "3a5466ab00ab4e7f92e7bfa78afdc45d",
            "d35c628711b346ccb99dd04aa97a094b",
            "c8e21b3bc8984d9ba26b777c078c7b7a",
            "03b8641e475344ad854c73e951a93cec",
            "a109db192a0f4e6287d327a52e13b34b",
            "f1edf255a4a84d9caf97b53cd60d1261",
            "4eca5ee031c24af0a987063455b6d642",
            "054a76d6d4c54967adf9b713d67b74de",
            "576bb78e25754c479e31b3c45eee05b3",
            "6ae3d5fd4527497e98da13e1898afea3",
            "d121b4f6e55f48289d84d42940357ca9",
            "0f98973e878947a59e5e538d4203c1c7",
            "d25495532276465d9cda3916a3be1ee6",
            "5cf88fa29a874cf4b05aace09a377917",
            "fe51a97895604a0eb0939ff72b8c7a45",
            "ef8e9e57d6b949c6a73fc96b850c02c4",
            "6638f87b29f3436299108579158a3b16",
            "68295b3d9a5d4f39a5279b9603acf33b",
            "900c8b68b43d4ca6a2e9c21e5427d497",
            "faac557c6d8046d5813f10bbdc06e515",
            "df15b4df47dd4ed882a2cf5969880f25",
            "d38ad3acf36843de866412416b1840c1"
          ]
        },
        "id": "kqZr7rK5RtUV",
        "outputId": "0ed0c136-7597-4bbb-e325-a8d9361cf233"
      },
      "source": [
        "version = \"b1\"\n",
        "pretrain_model = TypeClassifier(version=version, num_classes=4).to(device)\n",
        "\n",
        "optimizer = torch.optim.Adam(pretrain_model.parameters(), lr=1e-5)\n",
        "loss = torch.nn.CrossEntropyLoss(weight=torch.FloatTensor(dataset.get_class_weights()).to(device))\n",
        "epochs = 10\n",
        "\n",
        "history = train(pretrain_model, optimizer, train_loader, device, loss, \n",
        "                val_dataset=val_loader, epochs=epochs,\n",
        "                model_dir=f\"/content/drive/MyDrive/eagle_eye_models/{version}\")"
      ],
      "execution_count": 7,
      "outputs": [
        {
          "output_type": "stream",
          "text": [
            "Downloading: \"https://github.com/lukemelas/EfficientNet-PyTorch/releases/download/1.0/efficientnet-b0-355c32eb.pth\" to /root/.cache/torch/hub/checkpoints/efficientnet-b0-355c32eb.pth\n"
          ],
          "name": "stderr"
        },
        {
          "output_type": "display_data",
          "data": {
            "application/vnd.jupyter.widget-view+json": {
              "model_id": "a47320b99b5c472e94de2cdb385a233b",
              "version_minor": 0,
              "version_major": 2
            },
            "text/plain": [
              "HBox(children=(FloatProgress(value=0.0, max=21388428.0), HTML(value='')))"
            ]
          },
          "metadata": {
            "tags": []
          }
        },
        {
          "output_type": "stream",
          "text": [
            "\n",
            "Loaded pretrained weights for efficientnet-b0\n"
          ],
          "name": "stdout"
        },
        {
          "output_type": "display_data",
          "data": {
            "application/vnd.jupyter.widget-view+json": {
              "model_id": "f889b488928340469425027202004227",
              "version_minor": 0,
              "version_major": 2
            },
            "text/plain": [
              "HBox(children=(FloatProgress(value=0.0, description='[train 1/5]', max=121.0, style=ProgressStyle(description_…"
            ]
          },
          "metadata": {
            "tags": []
          }
        },
        {
          "output_type": "stream",
          "text": [
            "\n",
            "[train] epoch: 0, loss: 0.03981382127988505, accracy: 0.5653866113129217\n",
            "[valid] epoch: 0, loss: 1.1713455729186535, report:\n",
            "{'0': {'precision': 0.7572815533980582, 'recall': 0.4875, 'f1-score': 0.5931558935361217, 'support': 160}, '1': {'precision': 1.0, 'recall': 0.15476190476190477, 'f1-score': 0.2680412371134021, 'support': 168}, '2': {'precision': 0.0703125, 'recall': 0.6, 'f1-score': 0.12587412587412586, 'support': 15}, '3': {'precision': 0.5911111111111111, 'recall': 0.9568345323741008, 'f1-score': 0.7307692307692308, 'support': 139}, 'accuracy': 0.5103734439834025, 'macro avg': {'precision': 0.6046762911272924, 'recall': 0.5497741092840014, 'f1-score': 0.42946012182322013, 'support': 482}, 'weighted avg': {'precision': 0.7725812873197796, 'recall': 0.5103734439834025, 'f1-score': 0.5049811322943278, 'support': 482}}\n"
          ],
          "name": "stdout"
        },
        {
          "output_type": "display_data",
          "data": {
            "application/vnd.jupyter.widget-view+json": {
              "model_id": "b2aa285bdbe6426a889418ebc1d0e5d0",
              "version_minor": 0,
              "version_major": 2
            },
            "text/plain": [
              "HBox(children=(FloatProgress(value=0.0, description='[train 2/5]', max=121.0, style=ProgressStyle(description_…"
            ]
          },
          "metadata": {
            "tags": []
          }
        },
        {
          "output_type": "stream",
          "text": [
            "\n",
            "[train] epoch: 1, loss: 0.03307449697025341, accracy: 0.7511676180591593\n",
            "[valid] epoch: 1, loss: 1.0217498950660229, report:\n",
            "{'0': {'precision': 0.7816091954022989, 'recall': 0.85, 'f1-score': 0.8143712574850299, 'support': 160}, '1': {'precision': 0.967741935483871, 'recall': 0.35714285714285715, 'f1-score': 0.5217391304347826, 'support': 168}, '2': {'precision': 0.12195121951219512, 'recall': 0.6666666666666666, 'f1-score': 0.2061855670103093, 'support': 15}, '3': {'precision': 0.8170731707317073, 'recall': 0.9640287769784173, 'f1-score': 0.8844884488448844, 'support': 139}, 'accuracy': 0.7053941908713693, 'macro avg': {'precision': 0.672093880282518, 'recall': 0.7094595751969852, 'f1-score': 0.6066961009437515, 'support': 482}, 'weighted avg': {'precision': 0.8361837250001004, 'recall': 0.7053941908713693, 'f1-score': 0.7136685746996719, 'support': 482}}\n"
          ],
          "name": "stdout"
        },
        {
          "output_type": "display_data",
          "data": {
            "application/vnd.jupyter.widget-view+json": {
              "model_id": "68f70b84808d4b4f9dacb294b1d1d638",
              "version_minor": 0,
              "version_major": 2
            },
            "text/plain": [
              "HBox(children=(FloatProgress(value=0.0, description='[train 3/5]', max=121.0, style=ProgressStyle(description_…"
            ]
          },
          "metadata": {
            "tags": []
          }
        },
        {
          "output_type": "stream",
          "text": [
            "\n",
            "[train] epoch: 2, loss: 0.027593900595047835, accracy: 0.809548521017125\n",
            "[valid] epoch: 2, loss: 0.8189889416098595, report:\n",
            "{'0': {'precision': 0.8351648351648352, 'recall': 0.95, 'f1-score': 0.888888888888889, 'support': 160}, '1': {'precision': 0.9775280898876404, 'recall': 0.5178571428571429, 'f1-score': 0.6770428015564203, 'support': 168}, '2': {'precision': 0.1694915254237288, 'recall': 0.6666666666666666, 'f1-score': 0.27027027027027023, 'support': 15}, '3': {'precision': 0.881578947368421, 'recall': 0.9640287769784173, 'f1-score': 0.9209621993127147, 'support': 139}, 'accuracy': 0.7946058091286307, 'macro avg': {'precision': 0.7159408494611563, 'recall': 0.7746381466255567, 'f1-score': 0.6892910400070735, 'support': 482}, 'weighted avg': {'precision': 0.8774542308984723, 'recall': 0.7946058091286307, 'f1-score': 0.8050481590087598, 'support': 482}}\n"
          ],
          "name": "stdout"
        },
        {
          "output_type": "display_data",
          "data": {
            "application/vnd.jupyter.widget-view+json": {
              "model_id": "4eca5ee031c24af0a987063455b6d642",
              "version_minor": 0,
              "version_major": 2
            },
            "text/plain": [
              "HBox(children=(FloatProgress(value=0.0, description='[train 4/5]', max=121.0, style=ProgressStyle(description_…"
            ]
          },
          "metadata": {
            "tags": []
          }
        },
        {
          "output_type": "stream",
          "text": [
            "\n",
            "[train] epoch: 3, loss: 0.02365151760673424, accracy: 0.8425012973533991\n",
            "[valid] epoch: 3, loss: 0.6674616979435086, report:\n",
            "{'0': {'precision': 0.8333333333333334, 'recall': 0.96875, 'f1-score': 0.8959537572254336, 'support': 160}, '1': {'precision': 0.9818181818181818, 'recall': 0.6428571428571429, 'f1-score': 0.776978417266187, 'support': 168}, '2': {'precision': 0.20454545454545456, 'recall': 0.6, 'f1-score': 0.30508474576271183, 'support': 15}, '3': {'precision': 0.9366197183098591, 'recall': 0.9568345323741008, 'f1-score': 0.9466192170818505, 'support': 139}, 'accuracy': 0.8402489626556017, 'macro avg': {'precision': 0.7390791720017071, 'recall': 0.792110418807811, 'f1-score': 0.7311590343340457, 'support': 482}, 'weighted avg': {'precision': 0.8953052085934441, 'recall': 0.8402489626556017, 'f1-score': 0.8507081278373583, 'support': 482}}\n"
          ],
          "name": "stdout"
        },
        {
          "output_type": "display_data",
          "data": {
            "application/vnd.jupyter.widget-view+json": {
              "model_id": "fe51a97895604a0eb0939ff72b8c7a45",
              "version_minor": 0,
              "version_major": 2
            },
            "text/plain": [
              "HBox(children=(FloatProgress(value=0.0, description='[train 5/5]', max=121.0, style=ProgressStyle(description_…"
            ]
          },
          "metadata": {
            "tags": []
          }
        },
        {
          "output_type": "stream",
          "text": [
            "\n",
            "[train] epoch: 4, loss: 0.02078082765484945, accracy: 0.8624805396990141\n",
            "[valid] epoch: 4, loss: 0.6068506594747305, report:\n",
            "{'0': {'precision': 0.8516483516483516, 'recall': 0.96875, 'f1-score': 0.9064327485380117, 'support': 160}, '1': {'precision': 0.9834710743801653, 'recall': 0.7083333333333334, 'f1-score': 0.8235294117647058, 'support': 168}, '2': {'precision': 0.23076923076923078, 'recall': 0.6, 'f1-score': 0.33333333333333337, 'support': 15}, '3': {'precision': 0.95, 'recall': 0.9568345323741008, 'f1-score': 0.953405017921147, 'support': 139}, 'accuracy': 0.8630705394190872, 'macro avg': {'precision': 0.753972164199437, 'recall': 0.8084794664268586, 'f1-score': 0.7541751278892994, 'support': 482}, 'weighted avg': {'precision': 0.9066357162264366, 'recall': 0.8630705394190872, 'f1-score': 0.8732478805676179, 'support': 482}}\n"
          ],
          "name": "stdout"
        }
      ]
    },
    {
      "source": [
        "## Visualize Results"
      ],
      "cell_type": "markdown",
      "metadata": {}
    },
    {
      "cell_type": "code",
      "metadata": {
        "colab": {
          "base_uri": "https://localhost:8080/",
          "height": 809
        },
        "id": "TJUFVRg1pp7x",
        "outputId": "00d1d8aa-5815-4f21-ffb1-5eff8236ccbc"
      },
      "source": [
        "import matplotlib.pyplot as plt\n",
        "import numpy as np\n",
        "\n",
        "plt.figure()\n",
        "plt.title(\"Train vs Valid Accuracy\")\n",
        "plt.plot(history[\"train_acc\"], label=\"train_acc\")\n",
        "plt.plot(np.repeat(np.array(history[\"val_acc\"]), len(train_loader)), label=\"val_acc\")\n",
        "plt.legend()\n",
        "\n",
        "plt.figure()\n",
        "plt.title(\"Train vs Valid Loss\")\n",
        "plt.plot(history[\"train_loss\"], label=\"train_loss\")\n",
        "plt.plot(np.repeat(np.array(history[\"val_loss\"]), len(train_loader)), label=\"val_loss\")\n",
        "plt.legend()\n",
        "\n",
        "plt.figure()\n",
        "plt.title(\"Valid Accuracy vs F1\")\n",
        "plt.plot(np.array(history[\"val_acc\"]), label=\"val_acc\")\n",
        "plt.plot(np.array(history[\"val_f1\"]), label=\"val_f1\")\n",
        "plt.legend();\n"
      ],
      "execution_count": 28,
      "outputs": [
        {
          "output_type": "display_data",
          "data": {
            "image/png": "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\n",
            "text/plain": [
              "<Figure size 432x288 with 1 Axes>"
            ]
          },
          "metadata": {
            "tags": [],
            "needs_background": "light"
          }
        },
        {
          "output_type": "display_data",
          "data": {
            "image/png": "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\n",
            "text/plain": [
              "<Figure size 432x288 with 1 Axes>"
            ]
          },
          "metadata": {
            "tags": [],
            "needs_background": "light"
          }
        },
        {
          "output_type": "display_data",
          "data": {
            "image/png": "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\n",
            "text/plain": [
              "<Figure size 432x288 with 1 Axes>"
            ]
          },
          "metadata": {
            "tags": [],
            "needs_background": "light"
          }
        }
      ]
    },
    {
      "cell_type": "code",
      "metadata": {
        "id": "v0Kr_YycrdU5"
      },
      "source": [],
      "execution_count": null,
      "outputs": []
    }
  ]
}
