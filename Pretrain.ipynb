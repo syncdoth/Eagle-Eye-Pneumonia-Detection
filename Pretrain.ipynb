{
 "metadata": {
  "language_info": {
   "codemirror_mode": {
    "name": "ipython",
    "version": 3
   },
   "file_extension": ".py",
   "mimetype": "text/x-python",
   "name": "python",
   "nbconvert_exporter": "python",
   "pygments_lexer": "ipython3",
   "version": "3.8.5-final"
  },
  "orig_nbformat": 2,
  "kernelspec": {
   "name": "python3",
   "display_name": "Python 3.8.5 64-bit ('synch': conda)",
   "metadata": {
    "interpreter": {
     "hash": "35053b13540cc9c689537abeeb3163724f33bf7a8d6bceac8310aa7dd1f293a6"
    }
   }
  }
 },
 "nbformat": 4,
 "nbformat_minor": 2,
 "cells": [
  {
   "cell_type": "code",
   "execution_count": null,
   "metadata": {},
   "outputs": [],
   "source": [
    "!bash utils/connect_in_colab.sh"
   ]
  },
  {
   "cell_type": "code",
   "execution_count": 1,
   "metadata": {},
   "outputs": [],
   "source": [
    "import torch\n",
    "from torch.utils.data import SubsetRandomSampler\n",
    "from models import type_classifier\n",
    "from models.train import train, make_batch\n",
    "from dataloader.ClassificationDataset import ClassificationDataset"
   ]
  },
  {
   "source": [
    "## Select GPU if available"
   ],
   "cell_type": "markdown",
   "metadata": {}
  },
  {
   "cell_type": "code",
   "execution_count": 2,
   "metadata": {},
   "outputs": [],
   "source": [
    "device = torch.device(\"cuda:0\" if torch.cuda.is_available() else \"cpu\")"
   ]
  },
  {
   "source": [
    "## Load Dataset"
   ],
   "cell_type": "markdown",
   "metadata": {}
  },
  {
   "cell_type": "code",
   "execution_count": 3,
   "metadata": {},
   "outputs": [],
   "source": [
    "dataset = ClassificationDataset(root=\"/Users/synch/data_server\")\n",
    "\n",
    "train_loader = torch.utils.data.DataLoader(dataset, batch_size=2, collate_fn=make_batch, sampler=SubsetRandomSampler(dataset.train_idx))\n",
    "val_loader = torch.utils.data.DataLoader(dataset, batch_size=2, collate_fn=make_batch, sampler=SubsetRandomSampler(dataset.val_idx))\n",
    "test_loader = torch.utils.data.DataLoader(dataset, batch_size=2, collate_fn=make_batch, sampler=SubsetRandomSampler(dataset.test_idx))"
   ]
  },
  {
   "source": [
    "## Define Model and Train"
   ],
   "cell_type": "markdown",
   "metadata": {}
  },
  {
   "cell_type": "code",
   "execution_count": null,
   "metadata": {},
   "outputs": [],
   "source": [
    "pretrain_model = type_classifier().to(device)\n",
    "\n",
    "optimizer = torch.optim.Adam(pretrain_model.parameters(), lr=1e-5)\n",
    "epochs = 15\n",
    "\n",
    "train(pretrain_model, optimizer, train_loader, device, torch.nn.CrossEntropyLoss(), val_dataset=val_loader, epochs=epochs):"
   ]
  },
  {
   "cell_type": "code",
   "execution_count": null,
   "metadata": {},
   "outputs": [],
   "source": []
  }
 ]
}